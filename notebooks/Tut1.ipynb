{
 "cells": [
  {
   "cell_type": "markdown",
   "id": "7cec2082",
   "metadata": {},
   "source": [
    "# Example Markdown Cell\n",
    "\n",
    "## Subheading\n",
    "\n",
    "This tutorial is on learning to use Jupyter Notebook.\n",
    "This is a paragraph with some **bold text** and *italic text*.\n",
    "\n",
    "- First bullet point\n",
    "- Second bullet point\n",
    "- Third bullet point\n",
    "\n",
    "1. Numbered item one\n",
    "2. Numbered item two\n",
    "\n",
    "[Visit GitHub](https://github.com)\n",
    "\n",
    "> This is a blockquote.\n",
    "\n",
    "`Inline code example`\n",
    "\n",
    "```python\n",
    "# Code block example\n",
    "print(\"Hello, Markdown!\")\n",
    "```"
   ]
  },
  {
   "cell_type": "code",
   "execution_count": null,
   "id": "4eff9a49",
   "metadata": {},
   "outputs": [],
   "source": [
    "# by  pressing 'a' it creates a new block above the current block"
   ]
  },
  {
   "cell_type": "code",
   "execution_count": null,
   "id": "9e2d695f",
   "metadata": {},
   "outputs": [
    {
     "data": {
      "text/plain": [
       "3"
      ]
     },
     "metadata": {},
     "output_type": "display_data"
    }
   ],
   "source": [
    "1+2"
   ]
  },
  {
   "cell_type": "code",
   "execution_count": null,
   "id": "9df067a4",
   "metadata": {},
   "outputs": [],
   "source": [
    "# by pressing 'b' it creates a new block below the current block"
   ]
  },
  {
   "cell_type": "code",
   "execution_count": null,
   "id": "70cf7848",
   "metadata": {},
   "outputs": [],
   "source": [
    "# by pressing 'd-d' it deletes the current block"
   ]
  },
  {
   "cell_type": "code",
   "execution_count": null,
   "id": "0a26a78f",
   "metadata": {},
   "outputs": [],
   "source": [
    "# by pressing 'z' it undoes the last action"
   ]
  },
  {
   "cell_type": "code",
   "execution_count": null,
   "id": "c7ddf1b6",
   "metadata": {},
   "outputs": [
    {
     "data": {
      "text/plain": [
       "3"
      ]
     },
     "metadata": {},
     "output_type": "display_data"
    }
   ],
   "source": [
    "1+2 # by pressing 'c' you can copy the current block\n",
    "# by pressing 'v' you can paste the copied block\n",
    "# by pressing 'x' you can cut the current block"
   ]
  },
  {
   "cell_type": "markdown",
   "id": "70121cd0",
   "metadata": {},
   "source": [
    "# Importing and Exporting Data into Jupyter Notebook\n"
   ]
  },
  {
   "cell_type": "code",
   "execution_count": null,
   "id": "aa2bc888",
   "metadata": {},
   "outputs": [],
   "source": [
    "\n",
    "import pandas\n",
    "df = pandas.read_excel('../Tut_Repo/cryptos.xlsx')\n",
    "df.head() # Display the first few rows of the DataFrame"
   ]
  },
  {
   "cell_type": "markdown",
   "id": "ca0fbc76",
   "metadata": {},
   "source": [
    "# Pulling/requesting Data from web"
   ]
  },
  {
   "cell_type": "code",
   "execution_count": null,
   "id": "e4ac7367",
   "metadata": {},
   "outputs": [],
   "source": [
    "import requests\n",
    "def get_historic_price( symbol, after = '2018-09-01'):\n",
    "    url = 'https://api.kraken.com/0/public/OHLC'\n",
    "    pair = f'{symbol.upper()}USD'\n",
    "    \n"
   ]
  }
 ],
 "metadata": {
  "kernelspec": {
   "display_name": "Python 3",
   "language": "python",
   "name": "python3"
  },
  "language_info": {
   "codemirror_mode": {
    "name": "ipython",
    "version": 3
   },
   "file_extension": ".py",
   "mimetype": "text/x-python",
   "name": "python",
   "nbconvert_exporter": "python",
   "pygments_lexer": "ipython3",
   "version": "3.13.3"
  }
 },
 "nbformat": 4,
 "nbformat_minor": 5
}
