{
 "cells": [
  {
   "cell_type": "markdown",
   "id": "faf48bb1",
   "metadata": {},
   "source": [
    "# Introduction To Numpy\n",
    "## Numpy : Numeric Computing Library in Python ecosystem\n",
    "\n",
    "NumPy (Numerical Python) is one of the core packages for numerical computing in Python. Pandas, Matplotlib, Statmodels and many other Scientific libraries rely on NumPy."
   ]
  },
  {
   "cell_type": "code",
   "execution_count": 2,
   "id": "699db5ec",
   "metadata": {},
   "outputs": [],
   "source": [
    "import numpy"
   ]
  },
  {
   "cell_type": "markdown",
   "id": "ad224e7e",
   "metadata": {},
   "source": [
    "Basic Numpy Arrays"
   ]
  },
  {
   "cell_type": "code",
   "execution_count": 4,
   "id": "0183163c",
   "metadata": {},
   "outputs": [],
   "source": [
    "a = numpy.array([1,2,3])\n",
    "b = numpy.array([4,5,6])"
   ]
  },
  {
   "cell_type": "code",
   "execution_count": null,
   "id": "acbdd294",
   "metadata": {},
   "outputs": [],
   "source": [
    "a[:2],b[2]"
   ]
  },
  {
   "cell_type": "markdown",
   "id": "0b0f27da",
   "metadata": {},
   "source": [
    "Arrays Data Type"
   ]
  },
  {
   "cell_type": "code",
   "execution_count": 11,
   "id": "c594f132",
   "metadata": {},
   "outputs": [
    {
     "data": {
      "text/plain": [
       "dtype('int64')"
      ]
     },
     "execution_count": 11,
     "metadata": {},
     "output_type": "execute_result"
    }
   ],
   "source": [
    "a.dtype"
   ]
  },
  {
   "cell_type": "code",
   "execution_count": 12,
   "id": "f4fbdfc2",
   "metadata": {},
   "outputs": [],
   "source": [
    "c = numpy.array([7,8,9] , dtype = numpy.float64)"
   ]
  },
  {
   "cell_type": "code",
   "execution_count": 14,
   "id": "39f0c634",
   "metadata": {},
   "outputs": [
    {
     "data": {
      "text/plain": [
       "(array([7., 8., 9.]), dtype('float64'))"
      ]
     },
     "execution_count": 14,
     "metadata": {},
     "output_type": "execute_result"
    }
   ],
   "source": [
    "c , c.dtype"
   ]
  },
  {
   "cell_type": "code",
   "execution_count": 15,
   "id": "72d664a7",
   "metadata": {},
   "outputs": [],
   "source": [
    "d = numpy.array(['a' , 'b' , 'c'])"
   ]
  },
  {
   "cell_type": "code",
   "execution_count": null,
   "id": "5705a256",
   "metadata": {},
   "outputs": [],
   "source": [
    "d , d.dtype"
   ]
  },
  {
   "cell_type": "code",
   "execution_count": 17,
   "id": "3d16c02b",
   "metadata": {},
   "outputs": [],
   "source": [
    "e = numpy.array([{'x' : 1, 'y' : 2} , {'z' : 3, 'w' : 4}])"
   ]
  },
  {
   "cell_type": "code",
   "execution_count": null,
   "id": "84c2dc02",
   "metadata": {},
   "outputs": [],
   "source": [
    "e , e.dtype"
   ]
  },
  {
   "cell_type": "markdown",
   "id": "0674a45f",
   "metadata": {},
   "source": [
    "Multi Dimensional Array"
   ]
  },
  {
   "cell_type": "code",
   "execution_count": 20,
   "id": "8b53ef25",
   "metadata": {},
   "outputs": [],
   "source": [
    "ma = numpy.array([\n",
    "    [1,2,3],\n",
    "    [4,5,6],\n",
    "    [7,8,9]\n",
    "])"
   ]
  },
  {
   "cell_type": "code",
   "execution_count": null,
   "id": "c86e8cbe",
   "metadata": {},
   "outputs": [],
   "source": [
    "ma.shape, ma.ndim, ma.size"
   ]
  },
  {
   "cell_type": "code",
   "execution_count": 25,
   "id": "6a63c51e",
   "metadata": {},
   "outputs": [],
   "source": [
    "mb = numpy.array([\n",
    "    [\n",
    "        [1,2,3],\n",
    "        [4,5,6],\n",
    "        [7,8,9]\n",
    "    ],\n",
    "    [\n",
    "        [10,11,12],\n",
    "        [13,14,15],\n",
    "        [16,17,18]\n",
    "\n",
    "    ]\n",
    "])"
   ]
  },
  {
   "cell_type": "code",
   "execution_count": null,
   "id": "3aec1fd2",
   "metadata": {},
   "outputs": [],
   "source": [
    "mb.shape, mb.ndim, mb.size"
   ]
  },
  {
   "cell_type": "code",
   "execution_count": null,
   "id": "0937c08d",
   "metadata": {},
   "outputs": [],
   "source": [
    "mb[1], mb[1][1], mb[1][1][0]\n"
   ]
  },
  {
   "cell_type": "code",
   "execution_count": null,
   "id": "99b9ca48",
   "metadata": {},
   "outputs": [],
   "source": [
    "mb[0: , 1:]"
   ]
  },
  {
   "cell_type": "markdown",
   "id": "c8837bb7",
   "metadata": {},
   "source": [
    "Summary Statistics"
   ]
  },
  {
   "cell_type": "code",
   "execution_count": 39,
   "id": "fbd54db5",
   "metadata": {},
   "outputs": [],
   "source": [
    "A = numpy.array([1 , 2 , 3 , 4 , 5])"
   ]
  },
  {
   "cell_type": "code",
   "execution_count": null,
   "id": "e34fae30",
   "metadata": {},
   "outputs": [],
   "source": [
    "A.sum()"
   ]
  },
  {
   "cell_type": "code",
   "execution_count": null,
   "id": "d29a1af1",
   "metadata": {},
   "outputs": [],
   "source": [
    "A.mean()"
   ]
  },
  {
   "cell_type": "code",
   "execution_count": null,
   "id": "bdda90fa",
   "metadata": {},
   "outputs": [],
   "source": [
    "A.std()"
   ]
  },
  {
   "cell_type": "code",
   "execution_count": null,
   "id": "11a86dff",
   "metadata": {},
   "outputs": [],
   "source": [
    "A.var()"
   ]
  },
  {
   "cell_type": "code",
   "execution_count": 46,
   "id": "dfce5e77",
   "metadata": {},
   "outputs": [],
   "source": [
    "B = numpy.array([\n",
    "    [1,2,3],\n",
    "    [4,5,6],\n",
    "    [7,8,9]\n",
    "])"
   ]
  },
  {
   "cell_type": "code",
   "execution_count": null,
   "id": "6f7c592e",
   "metadata": {},
   "outputs": [],
   "source": [
    "B.sum()"
   ]
  },
  {
   "cell_type": "code",
   "execution_count": null,
   "id": "7734fdb9",
   "metadata": {},
   "outputs": [],
   "source": [
    "B.mean()"
   ]
  },
  {
   "cell_type": "code",
   "execution_count": null,
   "id": "9a5681a1",
   "metadata": {},
   "outputs": [],
   "source": [
    "B.var()"
   ]
  },
  {
   "cell_type": "code",
   "execution_count": null,
   "id": "6cf1033a",
   "metadata": {},
   "outputs": [],
   "source": [
    "B.std()"
   ]
  },
  {
   "cell_type": "code",
   "execution_count": null,
   "id": "afa6ecab",
   "metadata": {},
   "outputs": [],
   "source": [
    "B.sum(axis = 0)"
   ]
  },
  {
   "cell_type": "code",
   "execution_count": null,
   "id": "bcb83a7a",
   "metadata": {},
   "outputs": [],
   "source": [
    "B.sum(axis=1)"
   ]
  },
  {
   "cell_type": "markdown",
   "id": "cf9f7c18",
   "metadata": {},
   "source": [
    "# Broadcasting and Vector Operations"
   ]
  },
  {
   "cell_type": "code",
   "execution_count": null,
   "id": "9b049897",
   "metadata": {},
   "outputs": [],
   "source": [
    "x = numpy.arange(4)\n",
    "x"
   ]
  },
  {
   "cell_type": "code",
   "execution_count": null,
   "id": "8499c2bc",
   "metadata": {},
   "outputs": [],
   "source": [
    "x+5 # Vectorizing Operation"
   ]
  },
  {
   "cell_type": "code",
   "execution_count": null,
   "id": "b6d47dc6",
   "metadata": {},
   "outputs": [],
   "source": [
    "x*5 # Broadcasted to each element"
   ]
  },
  {
   "cell_type": "code",
   "execution_count": null,
   "id": "fcbe1e0b",
   "metadata": {},
   "outputs": [],
   "source": [
    "x"
   ]
  },
  {
   "cell_type": "code",
   "execution_count": 7,
   "id": "2e07e385",
   "metadata": {},
   "outputs": [],
   "source": [
    "x+=5 # Overwriting the original array"
   ]
  },
  {
   "cell_type": "code",
   "execution_count": null,
   "id": "48d06606",
   "metadata": {},
   "outputs": [],
   "source": [
    "x"
   ]
  },
  {
   "cell_type": "code",
   "execution_count": 9,
   "id": "eff59297",
   "metadata": {},
   "outputs": [],
   "source": [
    "y = numpy.arange(4, 8)"
   ]
  },
  {
   "cell_type": "code",
   "execution_count": null,
   "id": "477868b2",
   "metadata": {},
   "outputs": [],
   "source": [
    "x + y # Both arrays are broadcasted to each other. They are of the same shape"
   ]
  },
  {
   "cell_type": "code",
   "execution_count": 24,
   "id": "5811bd6c",
   "metadata": {},
   "outputs": [
    {
     "data": {
      "text/plain": [
       "(2, 2, 4)"
      ]
     },
     "execution_count": 24,
     "metadata": {},
     "output_type": "execute_result"
    }
   ],
   "source": [
    "z = numpy.array([[[1,2,3,4],[5,6,7,8]],[[9,10,11,12],[13,14,15,16]]])\n",
    "z.shape"
   ]
  },
  {
   "cell_type": "code",
   "execution_count": null,
   "id": "8af13ffd",
   "metadata": {},
   "outputs": [],
   "source": [
    "x+z"
   ]
  },
  {
   "cell_type": "code",
   "execution_count": 31,
   "id": "034bac48",
   "metadata": {},
   "outputs": [
    {
     "data": {
      "text/plain": [
       "(2, 4)"
      ]
     },
     "execution_count": 31,
     "metadata": {},
     "output_type": "execute_result"
    }
   ],
   "source": [
    "w = numpy.array([\n",
    "    [1,2,3,4] , \n",
    "    [5,6,7,8]\n",
    "    ])\n",
    "w.shape"
   ]
  },
  {
   "cell_type": "code",
   "execution_count": null,
   "id": "9b71cb4b",
   "metadata": {},
   "outputs": [],
   "source": [
    "w + z"
   ]
  },
  {
   "cell_type": "code",
   "execution_count": null,
   "id": "6dfae060",
   "metadata": {},
   "outputs": [],
   "source": [
    "s = numpy.array(\n",
    "    [\n",
    "        [\n",
    "            [\n",
    "                [1,2,3,4],\n",
    "                [1,2,3,4]\n",
    "            ],\n",
    "            [\n",
    "                [1,2,3,4],\n",
    "                [1,2,3,4]\n",
    "            ]\n",
    "        ],\n",
    "        [\n",
    "            [\n",
    "                [1,2,3,4],\n",
    "                [1,2,3,4]\n",
    "            ],\n",
    "            [\n",
    "                [1,2,3,4],\n",
    "                [1,2,3,4]\n",
    "            ]\n",
    "        ]\n",
    "    ]\n",
    ")\n",
    "s.shape"
   ]
  },
  {
   "cell_type": "code",
   "execution_count": null,
   "id": "db2ca666",
   "metadata": {},
   "outputs": [],
   "source": [
    "s+z, s+x, s+w"
   ]
  },
  {
   "cell_type": "markdown",
   "id": "6ca119f8",
   "metadata": {},
   "source": [
    "Boolean Arrays (Also called Masks)"
   ]
  },
  {
   "cell_type": "code",
   "execution_count": 39,
   "id": "272c5b59",
   "metadata": {},
   "outputs": [],
   "source": [
    "t = numpy.arange(10)"
   ]
  },
  {
   "cell_type": "code",
   "execution_count": null,
   "id": "b7fd4ee5",
   "metadata": {},
   "outputs": [],
   "source": [
    "t[[-1 , 5]]"
   ]
  },
  {
   "cell_type": "code",
   "execution_count": null,
   "id": "3e92db16",
   "metadata": {},
   "outputs": [],
   "source": [
    "# Boolean Indexing known as Masking\n",
    "t[[True, False, True, False, True, False, True, False, True, False]]"
   ]
  },
  {
   "cell_type": "code",
   "execution_count": null,
   "id": "8fdee47b",
   "metadata": {},
   "outputs": [],
   "source": [
    "Masking_Condition = t % 2 # Broadcasting\n",
    "Masking_Condition == 0 # Broadcasting = Masking, Going to return the Boolean Array"
   ]
  },
  {
   "cell_type": "code",
   "execution_count": null,
   "id": "efd8ec53",
   "metadata": {},
   "outputs": [],
   "source": [
    "t[Masking_Condition == 0]"
   ]
  },
  {
   "cell_type": "code",
   "execution_count": null,
   "id": "10f5899d",
   "metadata": {},
   "outputs": [],
   "source": [
    "u = numpy.arange(5, 100, 3)\n",
    "u.size"
   ]
  },
  {
   "cell_type": "code",
   "execution_count": null,
   "id": "c35021ea",
   "metadata": {},
   "outputs": [],
   "source": [
    "u"
   ]
  },
  {
   "cell_type": "code",
   "execution_count": null,
   "id": "e8b9b928",
   "metadata": {},
   "outputs": [],
   "source": [
    "u.mean()"
   ]
  },
  {
   "cell_type": "code",
   "execution_count": null,
   "id": "fce43389",
   "metadata": {},
   "outputs": [],
   "source": [
    "u[~(u > u.mean())]"
   ]
  },
  {
   "cell_type": "markdown",
   "id": "9c1b885d",
   "metadata": {},
   "source": [
    "Size of Objects in Memory"
   ]
  },
  {
   "cell_type": "code",
   "execution_count": null,
   "id": "e6a4ea38",
   "metadata": {},
   "outputs": [],
   "source": [
    "import sys\n",
    "sys.getsizeof(int) # Size of an Integer in Python"
   ]
  },
  {
   "cell_type": "code",
   "execution_count": null,
   "id": "f0a01a61",
   "metadata": {},
   "outputs": [],
   "source": [
    "sys.getsizeof(numpy.dtype(numpy.int64)) # Size of an Integer defining object in Numpy"
   ]
  },
  {
   "cell_type": "code",
   "execution_count": null,
   "id": "563ad1e8",
   "metadata": {},
   "outputs": [],
   "source": [
    "numpy.dtype(numpy.int8).itemsize # Size of the integer in Numpy"
   ]
  },
  {
   "cell_type": "code",
   "execution_count": null,
   "id": "aebd8aca",
   "metadata": {},
   "outputs": [
    {
     "data": {
      "text/plain": [
       "72"
      ]
     },
     "execution_count": 81,
     "metadata": {},
     "output_type": "execute_result"
    }
   ],
   "source": [
    "sys.getsizeof([1,2,3,4]) # Size of a list in Python"
   ]
  },
  {
   "cell_type": "code",
   "execution_count": null,
   "id": "152e46a6",
   "metadata": {},
   "outputs": [],
   "source": [
    "x.itemsize, x.nbytes"
   ]
  },
  {
   "cell_type": "code",
   "execution_count": null,
   "id": "37f9f5d3",
   "metadata": {},
   "outputs": [],
   "source": [
    "l = list(range(10))\n",
    "l"
   ]
  },
  {
   "cell_type": "code",
   "execution_count": null,
   "id": "59f1fdb8",
   "metadata": {},
   "outputs": [],
   "source": [
    "p = numpy.arange(10)\n",
    "p"
   ]
  },
  {
   "cell_type": "code",
   "execution_count": null,
   "id": "72a5f76f",
   "metadata": {},
   "outputs": [],
   "source": [
    "%time p[2]"
   ]
  },
  {
   "cell_type": "code",
   "execution_count": null,
   "id": "0ea5482c",
   "metadata": {},
   "outputs": [],
   "source": [
    "%time l[2]"
   ]
  }
 ],
 "metadata": {
  "kernelspec": {
   "display_name": "Python 3",
   "language": "python",
   "name": "python3"
  },
  "language_info": {
   "codemirror_mode": {
    "name": "ipython",
    "version": 3
   },
   "file_extension": ".py",
   "mimetype": "text/x-python",
   "name": "python",
   "nbconvert_exporter": "python",
   "pygments_lexer": "ipython3",
   "version": "3.13.3"
  }
 },
 "nbformat": 4,
 "nbformat_minor": 5
}
